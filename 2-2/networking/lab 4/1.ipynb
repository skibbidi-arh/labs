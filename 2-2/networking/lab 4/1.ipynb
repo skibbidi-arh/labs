{
 "cells": [
  {
   "cell_type": "code",
   "id": "initial_id",
   "metadata": {
    "collapsed": true,
    "ExecuteTime": {
     "end_time": "2025-06-19T03:12:31.728490Z",
     "start_time": "2025-06-19T03:12:31.722049Z"
    }
   },
   "source": "import socket",
   "outputs": [],
   "execution_count": 3
  },
  {
   "metadata": {
    "ExecuteTime": {
     "end_time": "2025-06-19T03:13:09.114075Z",
     "start_time": "2025-06-19T03:13:09.108072Z"
    }
   },
   "cell_type": "code",
   "source": "sock = socket.socket(socket.AF_INET, socket.SOCK_DGRAM)",
   "id": "87c44ee91c9dcc4a",
   "outputs": [],
   "execution_count": 4
  },
  {
   "metadata": {
    "ExecuteTime": {
     "end_time": "2025-06-19T03:14:13.680626Z",
     "start_time": "2025-06-19T03:14:13.673127Z"
    }
   },
   "cell_type": "code",
   "source": "sock.bind(('0.0.0.0', 5005))",
   "id": "7c7913be42476c43",
   "outputs": [],
   "execution_count": 5
  },
  {
   "metadata": {
    "ExecuteTime": {
     "end_time": "2025-06-19T03:15:04.095128Z",
     "start_time": "2025-06-19T03:15:04.085952Z"
    }
   },
   "cell_type": "code",
   "source": "print('Server listening on port 5005')",
   "id": "2db21619ed300118",
   "outputs": [
    {
     "name": "stdout",
     "output_type": "stream",
     "text": [
      "Server listening on port 5005\n"
     ]
    }
   ],
   "execution_count": 6
  },
  {
   "metadata": {
    "ExecuteTime": {
     "end_time": "2025-06-19T03:23:58.055020Z",
     "start_time": "2025-06-19T03:18:23.374030Z"
    }
   },
   "cell_type": "code",
   "source": [
    "try:\n",
    "    while True:\n",
    "        data, addr = sock.recvfrom(1024)\n",
    "        print(f\"Received {data!r} from {addr}\")\n",
    "        sock.sendto(data, addr)\n",
    "except KeyboardInterrupt:\n",
    "    print(\"\\nshutting down\")\n",
    "    sock.close()"
   ],
   "id": "c41620d903217885",
   "outputs": [
    {
     "name": "stdout",
     "output_type": "stream",
     "text": [
      "\n",
      "shutting down\n"
     ]
    }
   ],
   "execution_count": 7
  }
 ],
 "metadata": {
  "kernelspec": {
   "display_name": "Python 3",
   "language": "python",
   "name": "python3"
  },
  "language_info": {
   "codemirror_mode": {
    "name": "ipython",
    "version": 2
   },
   "file_extension": ".py",
   "mimetype": "text/x-python",
   "name": "python",
   "nbconvert_exporter": "python",
   "pygments_lexer": "ipython2",
   "version": "2.7.6"
  }
 },
 "nbformat": 4,
 "nbformat_minor": 5
}
